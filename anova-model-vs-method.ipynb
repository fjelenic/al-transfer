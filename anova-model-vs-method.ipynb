{
 "cells": [
  {
   "cell_type": "code",
   "execution_count": 1,
   "id": "76285ef2",
   "metadata": {},
   "outputs": [],
   "source": [
    "import pandas as pd\n",
    "df = pd.read_csv(\"data.csv\")"
   ]
  },
  {
   "cell_type": "markdown",
   "id": "2803b039",
   "metadata": {},
   "source": [
    "# ANOVA -> MODELS"
   ]
  },
  {
   "cell_type": "code",
   "execution_count": 3,
   "id": "5090dd30",
   "metadata": {},
   "outputs": [
    {
     "name": "stdout",
     "output_type": "stream",
     "text": [
      "Subjectivity\n",
      "Tu\n",
      "Tu\n",
      "Tu\n",
      "CoLA\n",
      "Tu\n",
      "Tu\n",
      "Tu\n",
      "AG-News\n",
      "Tu\n",
      "Tu\n",
      "Tu\n",
      "TREC\n",
      "Tu\n",
      "Tu\n",
      "Tu\n"
     ]
    }
   ],
   "source": [
    "from statsmodels.stats.diagnostic import lilliefors\n",
    "\n",
    "for dataset in [\"Subjectivity\", \"CoLA\", \"AG-News\", \"TREC\"]:\n",
    "    print(dataset)\n",
    "    for model_a in [\"BERT\", \"ELECTRA\", \"RoBERTa\"]:\n",
    "        data = df[(df[\"dataset\"]==dataset) & (df[\"model_a\"]==model_a) & (df[\"al_method\"] != \"random\") & (df[\"model_a\"] != df[\"model_e\"])][\"cos_glove_micro_avg_a_e\"]\n",
    "        if lilliefors(data, dist=\"norm\")[1] < 0.05:\n",
    "            print(\"Tu\")"
   ]
  },
  {
   "cell_type": "code",
   "execution_count": 4,
   "id": "c2a04ee9",
   "metadata": {},
   "outputs": [
    {
     "name": "stdout",
     "output_type": "stream",
     "text": [
      "Subjectivity\n",
      "KruskalResult(statistic=0.26795328034922167, pvalue=0.8746104951131559)\n",
      "CoLA\n",
      "KruskalResult(statistic=2.715541528069043, pvalue=0.2572335725995873)\n",
      "AG-News\n",
      "KruskalResult(statistic=3.2692676696068563, pvalue=0.19502376914344655)\n",
      "TREC\n",
      "KruskalResult(statistic=0.5214321652964907, pvalue=0.7704996467826332)\n"
     ]
    }
   ],
   "source": [
    "from scipy.stats import kruskal\n",
    "\n",
    "\n",
    "for dataset in [\"Subjectivity\", \"CoLA\", \"AG-News\", \"TREC\"]:\n",
    "    print(dataset)\n",
    "    data = []\n",
    "    for model_a in [\"BERT\", \"ELECTRA\", \"RoBERTa\"]:\n",
    "        d = df[(df[\"dataset\"]==dataset) & (df[\"model_a\"]==model_a) & (df[\"al_method\"] != \"random\") & (df[\"model_a\"] != df[\"model_e\"])][\"cos_glove_micro_avg_a_e\"]\n",
    "        if len(d) > 0:\n",
    "            data.append(d)\n",
    "    print(kruskal(*data))"
   ]
  },
  {
   "cell_type": "markdown",
   "id": "0f783f4a",
   "metadata": {},
   "source": [
    "# ANOVA ->  METHOD"
   ]
  },
  {
   "cell_type": "code",
   "execution_count": 6,
   "id": "e1157aa1",
   "metadata": {},
   "outputs": [
    {
     "name": "stdout",
     "output_type": "stream",
     "text": [
      "Subjectivity\n",
      "Tu\n",
      "CoLA\n",
      "Tu\n",
      "Tu\n",
      "AG-News\n",
      "Tu\n",
      "TREC\n",
      "Tu\n",
      "Tu\n"
     ]
    }
   ],
   "source": [
    "from statsmodels.stats.diagnostic import lilliefors\n",
    "\n",
    "for dataset in [\"Subjectivity\", \"CoLA\", \"AG-News\", \"TREC\"]:\n",
    "    print(dataset)\n",
    "    for method in [\"entropy\", \"core-set\", \"badge\"]:\n",
    "        data = df[(df[\"dataset\"]==dataset) & (df[\"al_method\"] == method) & (df[\"model_a\"] != df[\"model_e\"])][\"cos_glove_micro_avg_a_e\"]\n",
    "        if lilliefors(data, dist=\"norm\")[1] < 0.05:\n",
    "            print(\"Tu\")"
   ]
  },
  {
   "cell_type": "code",
   "execution_count": 7,
   "id": "a5f14fdc",
   "metadata": {},
   "outputs": [
    {
     "name": "stdout",
     "output_type": "stream",
     "text": [
      "Subjectivity\n",
      "KruskalResult(statistic=247.8531065834699, pvalue=1.5114080955924994e-54)\n",
      "CoLA\n",
      "KruskalResult(statistic=299.5705071650673, pvalue=8.893872487501577e-66)\n",
      "AG-News\n",
      "KruskalResult(statistic=291.12840307423664, pvalue=6.057180419528415e-64)\n",
      "TREC\n",
      "KruskalResult(statistic=305.72414849074903, pvalue=4.100574087405261e-67)\n"
     ]
    }
   ],
   "source": [
    "from scipy.stats import kruskal\n",
    "\n",
    "\n",
    "for dataset in [\"Subjectivity\", \"CoLA\", \"AG-News\", \"TREC\"]:\n",
    "    print(dataset)\n",
    "    data = []\n",
    "    for method in [\"entropy\", \"core-set\", \"badge\"]:\n",
    "        d = df[(df[\"dataset\"]==dataset) & (df[\"al_method\"] == method) & (df[\"model_a\"] != df[\"model_e\"])][\"cos_glove_micro_avg_a_e\"]\n",
    "        if len(d) > 0:\n",
    "            data.append(d)\n",
    "    print(kruskal(*data))"
   ]
  },
  {
   "cell_type": "code",
   "execution_count": null,
   "id": "56e44937",
   "metadata": {},
   "outputs": [],
   "source": []
  }
 ],
 "metadata": {
  "kernelspec": {
   "display_name": "Python 3 (ipykernel)",
   "language": "python",
   "name": "python3"
  },
  "language_info": {
   "codemirror_mode": {
    "name": "ipython",
    "version": 3
   },
   "file_extension": ".py",
   "mimetype": "text/x-python",
   "name": "python",
   "nbconvert_exporter": "python",
   "pygments_lexer": "ipython3",
   "version": "3.9.16"
  }
 },
 "nbformat": 4,
 "nbformat_minor": 5
}
